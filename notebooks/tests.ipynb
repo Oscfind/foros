{
 "cells": [
  {
   "cell_type": "code",
   "execution_count": 1,
   "metadata": {},
   "outputs": [],
   "source": [
    "import os\n",
    "os.chdir('..')"
   ]
  },
  {
   "cell_type": "code",
   "execution_count": 2,
   "metadata": {},
   "outputs": [],
   "source": [
    "from src.api.workflows.FAQs.extract_FAQs import obtener_faqs, obtener_faqs_unir\n",
    "faqs = obtener_faqs(); faqs_unir = obtener_faqs_unir()"
   ]
  },
  {
   "cell_type": "code",
   "execution_count": 3,
   "metadata": {},
   "outputs": [],
   "source": [
    "from src.api.common.dependency_container import DependencyContainer\n",
    "DC = DependencyContainer(); DC.initialize()"
   ]
  },
  {
   "cell_type": "code",
   "execution_count": 4,
   "metadata": {},
   "outputs": [
    {
     "data": {
      "text/plain": [
       "[{'FAQ': 'Crear una cuenta en la plataforma para cursos y títulos',\n",
       "  'Contenido': '<div class=\"et_pb_toggle_content clearfix\"><p>Tanto para matricularte en un curso como para aspirar a recibir un título (realizando todo el plan de estudios), es preciso haber creado una cuenta en la plataforma.</p>\\n<ol>\\n<li><strong>Si dispones de nombre de usuario y contraseña</strong>, ya eres usuario. <strong><em>Continúa en el n. 3.</em></strong></li>\\n<li><strong>Si no eres usuario </strong>(con nombre y contraseña de acceso): deberás iniciar el proceso de crear una cuenta validando un email, que te identificará a partir de ese momento con ese nombre de usuario (no se puede modificar). Si es este tu caso, haz clic en el enlace siguiente:</li>\\n</ol>\\n<h3 style=\"text-align: center;\"><span style=\"color: #3366ff;\"><strong><a href=\"https://aula.becat.online/DSMod/interfaz/control_validar_email/\" style=\"color: #3366ff;\" title=\"Alta\">DARME D</a></strong></span><span style=\"color: #3366ff;\"><strong><a href=\"https://aula.becat.online/DSMod/interfaz/control_validar_email/\" style=\"color: #3366ff;\" title=\"Alta\">E ALTA</a> &gt;</strong></span></h3>\\n<ol start=\"3\">\\n<li style=\"text-align: left;\"><span><span>Cuando tengas esa cuenta (disp</span></span><span>ongas de un </span><strong>nombre de usuario</strong><span> y </span><strong>contraseña</strong><span> para acceder), la inscripción en un curso se realiza en el <span style=\"color: #ff0000;\">“Área personal” &gt; “Convocatorias disponibles”</span>. </span><em>Ver imagen inferior</em><span>.</span></li>\\n</ol>\\n<p><span>Uno se matricula en convocatorias </span><span>de cursos que no haya realizado, lógicamente. <strong>Sólo estarán disponibles una o dos convocatorias</strong> (para el mes o los dos meses siguientes). <strong><em>No es posible matricularse en todos los cursos a la vez.</em></strong></span></p>\\n<p><img alt=\"Convocatoria\" class=\"wp-image-18701 alignnone size-large\" decoding=\"async\" fetchpriority=\"high\" height=\"872\" sizes=\"(min-width: 0px) and (max-width: 480px) 480px, (min-width: 481px) and (max-width: 980px) 980px, (min-width: 981px) 1024px, 100vw\" src=\"https://becat.online/wp-content/uploads/2023/09/Imagen1-1024x872.png\" srcset=\"https://becat.online/wp-content/uploads/2023/09/Imagen1-980x834.png 980w, https://becat.online/wp-content/uploads/2023/09/Imagen1-480x409.png 480w\" style=\"display: block; margin-left: auto; margin-right: auto;\" width=\"1024\"/></p></div>',\n",
       "  'Razonamiento': 'La pregunta menciona la inscripción en un curso, y esta FAQ explica cómo crear una cuenta y matricularse en cursos.',\n",
       "  'Score': '9'},\n",
       " {'FAQ': '¿Cuáles son las condiciones para acceder a estos estudios?',\n",
       "  'Contenido': '<div class=\"et_pb_toggle_content clearfix\"><p><span><strong>1.</strong> La inscripción en el <strong>“Curso Universitario en Didáctica de la Catequesis”</strong> la realiza cada alumno “editando su perfil”, cambiando el campo “UNIR” -que por defecto está en “No”- a “Sí” y cumplimentando todos los campos obligatorios. <span style=\"color: #ff0000;\"><em>Ver imagen inferior</em></span>. Después, cada alumno decidirá si se matricula o no en la convocatoria de cada curso abierto.</span></p>\\n<p style=\"text-align: center;\"><img alt=\"Perfil - UNIR\" class=\"wp-image-18702 alignnone size-large\" decoding=\"async\" height=\"1024\" src=\"https://becat.online/wp-content/uploads/2023/09/Imagen2-710x1024.png\" width=\"710\"/></p>\\n<p style=\"text-align: left;\"><span><strong>2.</strong> La inscripción en el título <strong>“Experto Universitario en Didáctica de la Catequesis” </strong></span><strong><span style=\"color: #ff0000;\">no está contemplada todavía</span>, hasta no finalizar los cuatro semestres previos del “Curso Universitario”</strong><span>. No será automática. Requiere disponer de un título universitario anterior y se realizará una selección de los solicitantes, dando prioridad a los que están implantando proyectos de catequesis de #BeCaT.</span></p></div>',\n",
       "  'Razonamiento': 'La pregunta se refiere a la inscripción en un curso específico, y esta FAQ detalla las condiciones para acceder a los estudios y cómo inscribirse.',\n",
       "  'Score': '8'},\n",
       " {'FAQ': '¿Cuáles son los dos títulos que se ofrecen?',\n",
       "  'Contenido': '<div class=\"et_pb_toggle_content clearfix\"><p><strong>1. El título “Curso Universitario en Didáctica de la Catequesis”.</strong></p>\\n<p>Consta de las asignaturas (que también llamamos cursos) que figuran en los cuatro primeros semestres del <a href=\"https://becat.online/plan-de-estudios/\">plan de estudios</a>. Tiene un valor académico de <span style=\"color: #ff0000;\">12 ECTS</span> (créditos europeos = <span style=\"color: #ff0000;\">300 horas de dedicación del estudiante</span>).</p>\\n<p><strong>2. El título “Experto Universitario en Didáctica de la Catequesis”.</strong></p>\\n<p>Una vez que se ha obtenido el título anterior (cuatro primeros semestres), un número reducido de aspirantes puede optar a este nuevo título, de <span style=\"color: #ff0000;\">16 ECTS</span> (créditos europeos = <span style=\"color: #ff0000;\">400 horas de dedicación del estudiante</span>).</p></div>',\n",
       "  'Razonamiento': 'La pregunta menciona un plan de estudios para catequesis, y esta FAQ explica los títulos relacionados con la catequesis y su plan de estudios.',\n",
       "  'Score': '7'}]"
      ]
     },
     "execution_count": 4,
     "metadata": {},
     "output_type": "execute_result"
    }
   ],
   "source": [
    "pregunta = 'Me muestran un plan de estudios de cinco semestres para catequesis como hago para inscribirme.'\n",
    "request = {'Pregunta': pregunta, 'FAQs': faqs + faqs_unir}  \n",
    "response = DependencyContainer.get_faqs_workflow().execute(request)\n",
    "faq = max(response['FAQs'], key=lambda x: float(x['Score']))\n",
    "if float(faq['Score']) >= 7: content = f\"<h2>{faq['FAQ']}</h2>{faq['Contenido']}\" \n",
    "if 4 < float(faq['Score']) < 7: \n",
    "    content = f\"\"\"\n",
    "                <h2>{faq['FAQ']}</h2>{faq['Contenido']}\n",
    "                <h2>Si esta FAQ no se ajusta a tu pregunta, puedes dirigirte al siguiente número de Whatsapp: <a href=\"https://web.whatsapp.com/send?phone=34689909323\">Contacta con un asesor.</a></h2>\n",
    "    \"\"\"\n",
    "if float(faq['Score']) <= 4: content = f'<h2>No encontramos ninguna FAQ relacionada a la pregunta. Dirígete al siguiente número de Whatsapp: <a href=\"https://web.whatsapp.com/send?phone=34689909323\">contacta con un asesor.</a></h2>'\n",
    "response['FAQs']"
   ]
  },
  {
   "cell_type": "code",
   "execution_count": null,
   "metadata": {},
   "outputs": [],
   "source": []
  }
 ],
 "metadata": {
  "kernelspec": {
   "display_name": ".venv",
   "language": "python",
   "name": "python3"
  },
  "language_info": {
   "codemirror_mode": {
    "name": "ipython",
    "version": 3
   },
   "file_extension": ".py",
   "mimetype": "text/x-python",
   "name": "python",
   "nbconvert_exporter": "python",
   "pygments_lexer": "ipython3",
   "version": "3.12.3"
  }
 },
 "nbformat": 4,
 "nbformat_minor": 2
}
